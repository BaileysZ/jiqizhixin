{
 "cells": [
  {
   "cell_type": "code",
   "execution_count": 1,
   "id": "b7ffdf83",
   "metadata": {},
   "outputs": [],
   "source": [
    "from sagemaker import get_execution_role\n",
    "from sagemaker import Session\n",
    "\n",
    "role = get_execution_role()\n",
    "sess = Session()\n",
    "region = sess.boto_region_name\n",
    "bucket = sess.default_bucket()"
   ]
  },
  {
   "cell_type": "code",
   "execution_count": 2,
   "id": "721417fb",
   "metadata": {},
   "outputs": [
    {
     "name": "stdout",
     "output_type": "stream",
     "text": [
      "Requirement already satisfied: h5py==2.10.0 in /home/ec2-user/anaconda3/envs/tensorflow_p36/cpu/lib/python3.6/site-packages (2.10.0)\r\n",
      "Requirement already satisfied: numpy>=1.7 in /home/ec2-user/anaconda3/envs/tensorflow_p36/lib/python3.6/site-packages (from h5py==2.10.0) (1.18.5)\r\n",
      "Requirement already satisfied: six in /home/ec2-user/anaconda3/envs/tensorflow_p36/lib/python3.6/site-packages (from h5py==2.10.0) (1.15.0)\r\n"
     ]
    }
   ],
   "source": [
    "# ref: https://github.com/keras-team/keras/issues/14265\n",
    "!pip install \"h5py==2.10.0\"\n",
    "import h5py\n",
    "import numpy as np"
   ]
  },
  {
   "cell_type": "code",
   "execution_count": 3,
   "id": "5ce124ff",
   "metadata": {},
   "outputs": [
    {
     "name": "stdout",
     "output_type": "stream",
     "text": [
      "WARNING:tensorflow:From /home/ec2-user/anaconda3/envs/tensorflow_p36/cpu/lib/python3.6/site-packages/tensorflow_core/__init__.py:1473: The name tf.estimator.inputs is deprecated. Please use tf.compat.v1.estimator.inputs instead.\n",
      "\n",
      "WARNING:tensorflow:From /home/ec2-user/anaconda3/envs/tensorflow_p36/lib/python3.6/site-packages/keras/backend/tensorflow_backend.py:74: The name tf.get_default_graph is deprecated. Please use tf.compat.v1.get_default_graph instead.\n",
      "\n",
      "WARNING:tensorflow:From /home/ec2-user/anaconda3/envs/tensorflow_p36/lib/python3.6/site-packages/keras/backend/tensorflow_backend.py:517: The name tf.placeholder is deprecated. Please use tf.compat.v1.placeholder instead.\n",
      "\n",
      "WARNING:tensorflow:From /home/ec2-user/anaconda3/envs/tensorflow_p36/lib/python3.6/site-packages/keras/backend/tensorflow_backend.py:4138: The name tf.random_uniform is deprecated. Please use tf.random.uniform instead.\n",
      "\n"
     ]
    },
    {
     "name": "stderr",
     "output_type": "stream",
     "text": [
      "Using TensorFlow backend.\n"
     ]
    },
    {
     "name": "stdout",
     "output_type": "stream",
     "text": [
      "WARNING:tensorflow:From /home/ec2-user/anaconda3/envs/tensorflow_p36/lib/python3.6/site-packages/keras/backend/tensorflow_backend.py:133: The name tf.placeholder_with_default is deprecated. Please use tf.compat.v1.placeholder_with_default instead.\n",
      "\n",
      "WARNING:tensorflow:From /home/ec2-user/anaconda3/envs/tensorflow_p36/lib/python3.6/site-packages/keras/backend/tensorflow_backend.py:3445: calling dropout (from tensorflow.python.ops.nn_ops) with keep_prob is deprecated and will be removed in a future version.\n",
      "Instructions for updating:\n",
      "Please use `rate` instead of `keep_prob`. Rate should be set to `rate = 1 - keep_prob`.\n",
      "WARNING:tensorflow:From /home/ec2-user/anaconda3/envs/tensorflow_p36/lib/python3.6/site-packages/keras/backend/tensorflow_backend.py:174: The name tf.get_default_session is deprecated. Please use tf.compat.v1.get_default_session instead.\n",
      "\n",
      "WARNING:tensorflow:From /home/ec2-user/anaconda3/envs/tensorflow_p36/lib/python3.6/site-packages/keras/backend/tensorflow_backend.py:184: The name tf.ConfigProto is deprecated. Please use tf.compat.v1.ConfigProto instead.\n",
      "\n",
      "WARNING:tensorflow:From /home/ec2-user/anaconda3/envs/tensorflow_p36/lib/python3.6/site-packages/keras/backend/tensorflow_backend.py:186: The name tf.Session is deprecated. Please use tf.compat.v1.Session instead.\n",
      "\n",
      "WARNING:tensorflow:From /home/ec2-user/anaconda3/envs/tensorflow_p36/lib/python3.6/site-packages/keras/backend/tensorflow_backend.py:190: The name tf.global_variables is deprecated. Please use tf.compat.v1.global_variables instead.\n",
      "\n",
      "WARNING:tensorflow:From /home/ec2-user/anaconda3/envs/tensorflow_p36/lib/python3.6/site-packages/keras/backend/tensorflow_backend.py:199: The name tf.is_variable_initialized is deprecated. Please use tf.compat.v1.is_variable_initialized instead.\n",
      "\n",
      "WARNING:tensorflow:From /home/ec2-user/anaconda3/envs/tensorflow_p36/lib/python3.6/site-packages/keras/backend/tensorflow_backend.py:206: The name tf.variables_initializer is deprecated. Please use tf.compat.v1.variables_initializer instead.\n",
      "\n",
      "WARNING:tensorflow:From /home/ec2-user/anaconda3/envs/tensorflow_p36/lib/python3.6/site-packages/keras/optimizers.py:790: The name tf.train.Optimizer is deprecated. Please use tf.compat.v1.train.Optimizer instead.\n",
      "\n",
      "WARNING:tensorflow:From /home/ec2-user/anaconda3/envs/tensorflow_p36/cpu/lib/python3.6/site-packages/tensorflow_core/python/ops/math_grad.py:1424: where (from tensorflow.python.ops.array_ops) is deprecated and will be removed in a future version.\n",
      "Instructions for updating:\n",
      "Use tf.where in 2.0, which has the same broadcast rule as np.where\n",
      "WARNING:tensorflow:From /home/ec2-user/anaconda3/envs/tensorflow_p36/lib/python3.6/site-packages/keras/backend/tensorflow_backend.py:986: The name tf.assign_add is deprecated. Please use tf.compat.v1.assign_add instead.\n",
      "\n",
      "WARNING:tensorflow:From /home/ec2-user/anaconda3/envs/tensorflow_p36/lib/python3.6/site-packages/keras/backend/tensorflow_backend.py:973: The name tf.assign is deprecated. Please use tf.compat.v1.assign instead.\n",
      "\n",
      "Already load model\n"
     ]
    }
   ],
   "source": [
    "import os\n",
    "import tensorflow as tf\n",
    "import tensorflow.keras as keras\n",
    "from keras.models import load_model\n",
    "\n",
    "loaded_model = load_model ('./data/my-model.h5')\n",
    "print('Already load model')"
   ]
  },
  {
   "cell_type": "code",
   "execution_count": 4,
   "id": "0c624029",
   "metadata": {},
   "outputs": [
    {
     "name": "stdout",
     "output_type": "stream",
     "text": [
      "WARNING:tensorflow:From /home/ec2-user/anaconda3/envs/tensorflow_p36/cpu/lib/python3.6/site-packages/tensorflow_core/python/saved_model/signature_def_utils_impl.py:201: build_tensor_info (from tensorflow.python.saved_model.utils_impl) is deprecated and will be removed in a future version.\n",
      "Instructions for updating:\n",
      "This function will only be available through the v1 compatibility library as tf.compat.v1.saved_model.utils.build_tensor_info or tf.compat.v1.saved_model.build_tensor_info.\n",
      "INFO:tensorflow:No assets to save.\n",
      "INFO:tensorflow:No assets to write.\n",
      "INFO:tensorflow:SavedModel written to: export/Servo/1/saved_model.pb\n"
     ]
    },
    {
     "data": {
      "text/plain": [
       "b'export/Servo/1/saved_model.pb'"
      ]
     },
     "execution_count": 4,
     "metadata": {},
     "output_type": "execute_result"
    }
   ],
   "source": [
    "from tensorflow.python.saved_model import builder\n",
    "from tensorflow.python.saved_model.signature_def_utils import predict_signature_def\n",
    "from tensorflow.python.saved_model import tag_constants\n",
    "\n",
    "model_version = '1'\n",
    "export_dir = 'export/Servo/' + model_version\n",
    "# Build the Protocol Buffer SavedModel at 'export_dir'\n",
    "builder = builder.SavedModelBuilder(export_dir)\n",
    "# Create prediction signature to be used by TensorFlow Serving Predict API\n",
    "signature = predict_signature_def(inputs={\"inputs\": loaded_model.input}, outputs={\"score\": loaded_model.output})\n",
    "\n",
    "session = tf.compat.v1.Session()\n",
    "init_op = tf.compat.v1.global_variables_initializer()\n",
    "session.run(init_op)\n",
    "# Save the meta graph and variables\n",
    "builder.add_meta_graph_and_variables(\n",
    "    sess=session, tags=[tag_constants.SERVING], signature_def_map={\"serving_default\": signature})\n",
    "builder.save()"
   ]
  },
  {
   "cell_type": "code",
   "execution_count": 5,
   "id": "2139be97",
   "metadata": {},
   "outputs": [
    {
     "name": "stdout",
     "output_type": "stream",
     "text": [
      "WARNING:tensorflow:From /home/ec2-user/anaconda3/envs/tensorflow_p36/cpu/lib/python3.6/site-packages/tensorflow_core/__init__.py:1473: The name tf.estimator.inputs is deprecated. Please use tf.compat.v1.estimator.inputs instead.\n",
      "\n",
      "\n",
      "MetaGraphDef with tag-set: 'serve' contains the following SignatureDefs:\n",
      "\n",
      "signature_def['serving_default']:\n",
      "  The given SavedModel SignatureDef contains the following input(s):\n",
      "    inputs['inputs'] tensor_info:\n",
      "        dtype: DT_FLOAT\n",
      "        shape: (-1, -1, 14)\n",
      "        name: lstm_1_input:0\n",
      "  The given SavedModel SignatureDef contains the following output(s):\n",
      "    outputs['score'] tensor_info:\n",
      "        dtype: DT_FLOAT\n",
      "        shape: (-1, 2)\n",
      "        name: activation_1/Sigmoid:0\n",
      "  Method name is: tensorflow/serving/predict\n"
     ]
    }
   ],
   "source": [
    "model_path = 'export/Servo/1/'\n",
    "!saved_model_cli show --all --dir {model_path}"
   ]
  },
  {
   "cell_type": "code",
   "execution_count": 6,
   "id": "481e80ef",
   "metadata": {},
   "outputs": [],
   "source": [
    "import tarfile\n",
    "model_archive = 'model.tar.gz'\n",
    "with tarfile.open(model_archive, mode='w:gz') as archive:\n",
    "    archive.add('export', recursive=True)\n",
    "model_data = sess.upload_data(path=model_archive, key_prefix='model')"
   ]
  },
  {
   "cell_type": "code",
   "execution_count": 7,
   "id": "912348c0",
   "metadata": {},
   "outputs": [],
   "source": [
    "from sagemaker.tensorflow.serving import TensorFlowModel\n",
    "instance_type = 'ml.t2.medium' \n",
    "tf_framework_version = tf.__version__\n",
    "sm_model = TensorFlowModel(model_data=model_data, \n",
    "framework_version=tf_framework_version,role=role)"
   ]
  },
  {
   "cell_type": "code",
   "execution_count": 8,
   "id": "20780449",
   "metadata": {},
   "outputs": [
    {
     "name": "stderr",
     "output_type": "stream",
     "text": [
      "update_endpoint is a no-op in sagemaker>=2.\n",
      "See: https://sagemaker.readthedocs.io/en/stable/v2.html for details.\n"
     ]
    },
    {
     "name": "stdout",
     "output_type": "stream",
     "text": [
      "-------------!CPU times: user 291 ms, sys: 24.3 ms, total: 315 ms\n",
      "Wall time: 6min 31s\n"
     ]
    }
   ],
   "source": [
    "%%time\n",
    "predictor = sm_model.deploy(initial_instance_count=1, instance_type=instance_type)"
   ]
  },
  {
   "cell_type": "code",
   "execution_count": 12,
   "id": "a4f41bd1",
   "metadata": {},
   "outputs": [
    {
     "name": "stdout",
     "output_type": "stream",
     "text": [
      "Experiment starts\n",
      "Data processing over\n"
     ]
    }
   ],
   "source": [
    "import pandas as pd\n",
    "all_pd = pd.read_csv('./data/123.csv', delimiter=\",\", skiprows=0)\n",
    "all_useful_data = all_pd.to_numpy()\n",
    "veh_id = all_useful_data[:, 0]\n",
    "all_useful_data[:, 2], all_useful_data[:, 4], all_useful_data[:, 6], all_useful_data[:, 8], all_useful_data[:,\n",
    "                                                                                            10], all_useful_data[:,\n",
    "                                                                                                 12], all_useful_data[:,\n",
    "                                                                                                      14] = all_useful_data[\n",
    "                                                                                                            :,\n",
    "                                                                                                            2] / 65, all_useful_data[\n",
    "                                                                                                                     :,\n",
    "                                                                                                                     4] / 65, all_useful_data[\n",
    "                                                                                                                              :,\n",
    "                                                                                                                              6] / 65, all_useful_data[\n",
    "                                                                                                                                       :,\n",
    "                                                                                                                                       8] / 65, all_useful_data[\n",
    "                                                                                                                                                :,\n",
    "                                                                                                                                                10] / 65, all_useful_data[\n",
    "                                                                                                                                                          :,\n",
    "                                                                                                                                                          12] / 65, all_useful_data[\n",
    "                                                                                                                                                                    :,\n",
    "                                                                                                                                                                    14] / 65\n",
    "all_useful_data[:, 3], all_useful_data[:, 5], all_useful_data[:, 7], all_useful_data[:, 9], all_useful_data[:,\n",
    "                                                                                            11], all_useful_data[:,\n",
    "                                                                                                 13], all_useful_data[:,\n",
    "                                                                                                      15] = all_useful_data[\n",
    "                                                                                                            :,\n",
    "                                                                                                            3] / 1650, all_useful_data[\n",
    "                                                                                                                       :,\n",
    "                                                                                                                       5] / 1650, all_useful_data[\n",
    "                                                                                                                                  :,\n",
    "                                                                                                                                  7] / 1650, all_useful_data[\n",
    "                                                                                                                                             :,\n",
    "                                                                                                                                             9] / 1650, all_useful_data[\n",
    "                                                                                                                                                        :,\n",
    "                                                                                                                                                        11] / 1650, all_useful_data[\n",
    "                                                                                                                                                                    :,\n",
    "                                                                                                                                                                    13] / 1650, all_useful_data[\n",
    "                                                                                                                                                                                :,\n",
    "                                                                                                                                                                                15] / 1650\n",
    "short_veh_id = list(set(list(veh_id)))\n",
    "short_veh_id.sort()\n",
    "all_input = []\n",
    "print(\"Experiment starts\")\n",
    "for i in range(int(all_useful_data.shape[0] * 0.75) - 2 * 80):\n",
    "    if all_useful_data[i, 0] == all_useful_data[i + 79, 0] and all_useful_data[i + 79, 1] - all_useful_data[\n",
    "        i, 1] == 79 and all_useful_data[i + 79, 0] == all_useful_data[i + 158, 0] and all_useful_data[i + 158, 1] - \\\n",
    "            all_useful_data[i + 79, 1] == 79:\n",
    "        no_use = all_useful_data[i + 80:i + 2 * 80]\n",
    "        no_use = np.array(no_use)\n",
    "        the_output = no_use[:, :]\n",
    "        all_together = np.hstack((all_useful_data[i: i + 80][:, :], the_output))\n",
    "        all_input.append(all_together)\n",
    "print(\"Data processing over\")\n",
    "all_input = np.array(all_input)\n",
    "\n",
    "x_test_id = all_input[:, :, 0:2]\n",
    "x_test = all_input[:, :, 2:16]\n",
    "y_test_id = all_input[:, 0, 16:18]\n",
    "y_test = all_input[:, 0, 18:20]\n",
    "y_test_environ = all_input[:, 0, 20:]\n",
    "\n",
    "x_test = np.reshape(x_test, (x_test.shape[0], x_test.shape[1], 14))\n",
    "y_test = np.reshape(y_test, (y_test.shape[0], 2))\n",
    "\n",
    "# x_test = np.reshape(x_test,(1, 80, 14))"
   ]
  },
  {
   "cell_type": "code",
   "execution_count": 37,
   "id": "6ea5d00e",
   "metadata": {},
   "outputs": [
    {
     "data": {
      "image/png": "[encoded data removed]",
      "text/plain": [
       "<Figure size 432x288 with 1 Axes>"
      ]
     },
     "metadata": {
      "needs_background": "light"
     },
     "output_type": "display_data"
    }
   ],
   "source": [
    "# %%time\n",
    "from matplotlib import pyplot as plt\n",
    "# print(y_test_id[:, 0])\n",
    "test_veh_id = list(set(list(y_test_id[:, 0])))\n",
    "test_veh_id.sort()\n",
    "# print(test_veh_id)\n",
    "for i in test_veh_id:\n",
    "#     print(i)\n",
    "    same_veh = np.where(y_test_id[:, 0] == i)\n",
    "    same_veh_input = x_test[same_veh]\n",
    "    same_veh_truth = y_test[same_veh]\n",
    "    x_tru = [x[0]*65 for x in same_veh_truth]\n",
    "    y_tru = [x[1]*1650 for x in same_veh_truth]\n",
    "    prediction = predictor.predict({'inputs': same_veh_input})\n",
    "    all_prediction = np.array(prediction['outputs'])\n",
    "    x_pre = [x[0]*65 for x in prediction['outputs']]\n",
    "    y_pre = [x[1]*1650 for x in prediction['outputs']]\n",
    "    plt.figure()\n",
    "    plt.plot(x_pre, y_pre, 'r')\n",
    "    plt.plot(x_tru, y_tru, 'b')\n",
    "#     print(x_pre, y_pre)\n",
    "    plt.show()"
   ]
  },
  {
   "cell_type": "code",
   "execution_count": null,
   "id": "39f25af3",
   "metadata": {},
   "outputs": [],
   "source": [
    "predictor.delete_endpoint()"
   ]
  }
 ],
 "metadata": {
  "kernelspec": {
   "display_name": "conda_tensorflow_p36",
   "language": "python",
   "name": "conda_tensorflow_p36"
  },
  "language_info": {
   "codemirror_mode": {
    "name": "ipython",
    "version": 3
   },
   "file_extension": ".py",
   "mimetype": "text/x-python",
   "name": "python",
   "nbconvert_exporter": "python",
   "pygments_lexer": "ipython3",
   "version": "3.6.13"
  }
 },
 "nbformat": 4,
 "nbformat_minor": 5
}
