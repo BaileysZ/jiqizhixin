{
  "nbformat": 4,
  "nbformat_minor": 0,
  "metadata": {
    "accelerator": "GPU",
    "colab": {
      "name": "Demo 1: evaluate game with AI",
      "provenance": [],
      "collapsed_sections": [
        "eyqqc-mhkxuL",
        "zThuJ03sDIOE",
        "XwNvArlkZoWY",
        "o4MlZBeJZLWm"
      ],
      "toc_visible": true
    },
    "kernelspec": {
      "display_name": "Python [default]",
      "language": "python",
      "name": "python3"
    },
    "language_info": {
      "codemirror_mode": {
        "name": "ipython",
        "version": 3
      },
      "file_extension": ".py",
      "mimetype": "text/x-python",
      "name": "python",
      "nbconvert_exporter": "python",
      "pygments_lexer": "ipython3",
      "version": "3.5.2"
    }
  },
  "cells": [
    {
      "cell_type": "markdown",
      "metadata": {
        "id": "kT9ZurVxn3oa"
      },
      "source": [
        "\n",
        "\n",
        "# Demo 1 evaluate game with AI\n",
        "Text Game is one type of popular game that you play it by typing text in a game built with text.\n",
        "\n",
        "TextWorld is a microsoft open source text game.\n",
        "\n",
        "In this demo, I would use TextWorld to setup a Text game, and Use Rainforce learning to play the game and evaluate the game."
      ]
    },
    {
      "cell_type": "markdown",
      "metadata": {
        "id": "Z2PuEw4EA5Vx"
      },
      "source": [
        "## Environment setup\n",
        "\n",
        "* TextWorld (microsoft upstream version is being actively developed, I froze a version)"
      ]
    },
    {
      "cell_type": "code",
      "metadata": {
        "colab": {
          "base_uri": "https://localhost:8080/"
        },
        "id": "A8I7y48_kkjB",
        "outputId": "702cf858-1763-4b87-b74e-6a2f169de485"
      },
      "source": [
        "!apt install build-essential libffi-dev python3-dev curl git\n",
        "!pip install git+https://github.com/zhangabner/TextWorld > /dev/null 2>&1\n",
        "!pip install ptan > /dev/null 2>&1\n",
        "!pip3 install torch torchvision > /dev/null 2>&1"
      ],
      "execution_count": 1,
      "outputs": [
        {
          "output_type": "stream",
          "text": [
            "Reading package lists... Done\n",
            "Building dependency tree       \n",
            "Reading state information... Done\n",
            "build-essential is already the newest version (12.4ubuntu1).\n",
            "curl is already the newest version (7.58.0-2ubuntu3.13).\n",
            "git is already the newest version (1:2.17.1-1ubuntu0.8).\n",
            "python3-dev is already the newest version (3.6.7-1~18.04).\n",
            "python3-dev set to manually installed.\n",
            "The following package was automatically installed and is no longer required:\n",
            "  libnvidia-common-460\n",
            "Use 'apt autoremove' to remove it.\n",
            "The following NEW packages will be installed:\n",
            "  libffi-dev\n",
            "0 upgraded, 1 newly installed, 0 to remove and 34 not upgraded.\n",
            "Need to get 156 kB of archives.\n",
            "After this operation, 362 kB of additional disk space will be used.\n",
            "Get:1 http://archive.ubuntu.com/ubuntu bionic/main amd64 libffi-dev amd64 3.2.1-8 [156 kB]\n",
            "Fetched 156 kB in 0s (2,341 kB/s)\n",
            "Selecting previously unselected package libffi-dev:amd64.\n",
            "(Reading database ... 160690 files and directories currently installed.)\n",
            "Preparing to unpack .../libffi-dev_3.2.1-8_amd64.deb ...\n",
            "Unpacking libffi-dev:amd64 (3.2.1-8) ...\n",
            "Setting up libffi-dev:amd64 (3.2.1-8) ...\n",
            "Processing triggers for man-db (2.8.3-2ubuntu0.1) ...\n"
          ],
          "name": "stdout"
        }
      ]
    },
    {
      "cell_type": "code",
      "metadata": {
        "colab": {
          "base_uri": "https://localhost:8080/",
          "height": 309
        },
        "id": "5Tsi-vvKD9hu",
        "outputId": "b367b7cc-db70-4b65-8a80-0f35e9444335"
      },
      "source": [
        "# Juggling around colab requirement\n",
        "!pip uninstall -y prompt-toolkit > /dev/null 2>&1\n",
        "!pip install prompt-toolkit==1.0.16\n",
        "# DO NOT FORGET to restart runtime as suggested"
      ],
      "execution_count": 2,
      "outputs": [
        {
          "output_type": "stream",
          "text": [
            "Collecting prompt-toolkit==1.0.16\n",
            "\u001b[?25l  Downloading https://files.pythonhosted.org/packages/57/a8/a151b6c61718eabe6b4672b6aa760b734989316d62ec1ba4996765e602d4/prompt_toolkit-1.0.16-py3-none-any.whl (244kB)\n",
            "\r\u001b[K     |█▍                              | 10kB 21.3MB/s eta 0:00:01\r\u001b[K     |██▊                             | 20kB 27.1MB/s eta 0:00:01\r\u001b[K     |████                            | 30kB 23.2MB/s eta 0:00:01\r\u001b[K     |█████▍                          | 40kB 17.7MB/s eta 0:00:01\r\u001b[K     |██████▊                         | 51kB 15.5MB/s eta 0:00:01\r\u001b[K     |████████                        | 61kB 14.4MB/s eta 0:00:01\r\u001b[K     |█████████▍                      | 71kB 13.9MB/s eta 0:00:01\r\u001b[K     |██████████▊                     | 81kB 13.5MB/s eta 0:00:01\r\u001b[K     |████████████                    | 92kB 13.3MB/s eta 0:00:01\r\u001b[K     |█████████████▍                  | 102kB 13.4MB/s eta 0:00:01\r\u001b[K     |██████████████▊                 | 112kB 13.4MB/s eta 0:00:01\r\u001b[K     |████████████████▏               | 122kB 13.4MB/s eta 0:00:01\r\u001b[K     |█████████████████▌              | 133kB 13.4MB/s eta 0:00:01\r\u001b[K     |██████████████████▉             | 143kB 13.4MB/s eta 0:00:01\r\u001b[K     |████████████████████▏           | 153kB 13.4MB/s eta 0:00:01\r\u001b[K     |█████████████████████▌          | 163kB 13.4MB/s eta 0:00:01\r\u001b[K     |██████████████████████▉         | 174kB 13.4MB/s eta 0:00:01\r\u001b[K     |████████████████████████▏       | 184kB 13.4MB/s eta 0:00:01\r\u001b[K     |█████████████████████████▌      | 194kB 13.4MB/s eta 0:00:01\r\u001b[K     |██████████████████████████▉     | 204kB 13.4MB/s eta 0:00:01\r\u001b[K     |████████████████████████████▏   | 215kB 13.4MB/s eta 0:00:01\r\u001b[K     |█████████████████████████████▌  | 225kB 13.4MB/s eta 0:00:01\r\u001b[K     |██████████████████████████████▉ | 235kB 13.4MB/s eta 0:00:01\r\u001b[K     |████████████████████████████████| 245kB 13.4MB/s \n",
            "\u001b[?25hRequirement already satisfied: six>=1.9.0 in /usr/local/lib/python3.7/dist-packages (from prompt-toolkit==1.0.16) (1.15.0)\n",
            "Requirement already satisfied: wcwidth in /usr/local/lib/python3.7/dist-packages (from prompt-toolkit==1.0.16) (0.2.5)\n",
            "\u001b[31mERROR: textworld 1.1.1 has requirement prompt-toolkit<2.1.0,>=2.0.0, but you'll have prompt-toolkit 1.0.16 which is incompatible.\u001b[0m\n",
            "Installing collected packages: prompt-toolkit\n",
            "Successfully installed prompt-toolkit-1.0.16\n"
          ],
          "name": "stdout"
        },
        {
          "output_type": "display_data",
          "data": {
            "application/vnd.colab-display-data+json": {
              "pip_warning": {
                "packages": [
                  "prompt_toolkit"
                ]
              }
            }
          },
          "metadata": {
            "tags": []
          }
        }
      ]
    },
    {
      "cell_type": "markdown",
      "metadata": {
        "id": "MQVtid5aDRby"
      },
      "source": [
        "## restart the runtime"
      ]
    },
    {
      "cell_type": "markdown",
      "metadata": {
        "id": "NTWnBRj_tpd3"
      },
      "source": [
        "## Textworld basic test"
      ]
    },
    {
      "cell_type": "markdown",
      "metadata": {
        "id": "GLvzoUN8VLRM"
      },
      "source": [
        "## Build games we'll play with\n",
        "\n",
        "TextWorld allows to generate games of specific complexity, which makes it great for experimentation, learning and reasearch, as we can gradually increase the difficulty of the game by increasing complexity of problems.\n",
        "\n",
        "Below we generate the problem with 10 objects, 5 rooms and quest length 5"
      ]
    },
    {
      "cell_type": "code",
      "metadata": {
        "colab": {
          "base_uri": "https://localhost:8080/"
        },
        "id": "jQOURLm2VmjP",
        "outputId": "3d8a0d96-d688-4aca-cf7d-27c2a222ad81"
      },
      "source": [
        "import gym\n",
        "import textworld.gym as tw_gym\n",
        "import os\n",
        "gamename = \"o10r5q5game1.ulx\"\n",
        "cmd = \"tw-make custom --world-size 5 --nb-objects 10 --quest-length 5 --seed 2345 --output \"+gamename\n",
        "os.system(cmd)"
      ],
      "execution_count": 1,
      "outputs": [
        {
          "output_type": "execute_result",
          "data": {
            "text/plain": [
              "0"
            ]
          },
          "metadata": {
            "tags": []
          },
          "execution_count": 1
        }
      ]
    },
    {
      "cell_type": "code",
      "metadata": {
        "collapsed": true,
        "id": "7TKWGF-ppAcY",
        "colab": {
          "base_uri": "https://localhost:8080/"
        },
        "outputId": "29110922-cd98-42eb-973a-a595b299e805"
      },
      "source": [
        "env_id = tw_gym.register_game(gamename)\n",
        "env = gym.make(env_id)\n",
        "r = env.reset()\n",
        "print(r[0])"
      ],
      "execution_count": 2,
      "outputs": [
        {
          "output_type": "stream",
          "text": [
            "\n",
            "\n",
            "\n",
            "                    ________  ________  __    __  ________        \n",
            "                   |        \\|        \\|  \\  |  \\|        \\       \n",
            "                    \\$$$$$$$$| $$$$$$$$| $$  | $$ \\$$$$$$$$       \n",
            "                      | $$   | $$__     \\$$\\/  $$   | $$          \n",
            "                      | $$   | $$  \\     >$$  $$    | $$          \n",
            "                      | $$   | $$$$$    /  $$$$\\    | $$          \n",
            "                      | $$   | $$_____ |  $$ \\$$\\   | $$          \n",
            "                      | $$   | $$     \\| $$  | $$   | $$          \n",
            "                       \\$$    \\$$$$$$$$ \\$$   \\$$    \\$$          \n",
            "              __       __   ______   _______   __        _______  \n",
            "             |  \\  _  |  \\ /      \\ |       \\ |  \\      |       \\ \n",
            "             | $$ / \\ | $$|  $$$$$$\\| $$$$$$$\\| $$      | $$$$$$$\\\n",
            "             | $$/  $\\| $$| $$  | $$| $$__| $$| $$      | $$  | $$\n",
            "             | $$  $$$\\ $$| $$  | $$| $$    $$| $$      | $$  | $$\n",
            "             | $$ $$\\$$\\$$| $$  | $$| $$$$$$$\\| $$      | $$  | $$\n",
            "             | $$$$  \\$$$$| $$__/ $$| $$  | $$| $$_____ | $$__/ $$\n",
            "             | $$$    \\$$$ \\$$    $$| $$  | $$| $$     \\| $$    $$\n",
            "              \\$$      \\$$  \\$$$$$$  \\$$   \\$$ \\$$$$$$$$ \\$$$$$$$ \n",
            "\n",
            "Get ready to pick stuff up and put it in places, because you've just entered TextWorld! Here is how to play! First of all, make an attempt to go east. After that, ensure that the portal in the cubicle is open. After that, take a trip east. After that, try to take a trip south. And then, retrieve the butterfly from the shelf inside the garage. Got that? Good!\n",
            "\n",
            "-= Attic =-\n",
            "You've entered an attic.\n",
            "\n",
            "You scan the room, seeing a formless chest. What a letdown! The formless chest is empty!\n",
            "\n",
            "You need an unguarded exit? You should try going east.\n",
            "\n",
            "There is a formless key on the floor.\n",
            "\n",
            "\n",
            "\n",
            "\n"
          ],
          "name": "stdout"
        }
      ]
    },
    {
      "cell_type": "code",
      "metadata": {
        "colab": {
          "base_uri": "https://localhost:8080/"
        },
        "id": "Ig7o6cMPEGqg",
        "outputId": "2747a091-9e30-489a-dc74-0769a3edc59d"
      },
      "source": [
        "env.observation_space, env.action_space, env.observation_space.vocab[:10]"
      ],
      "execution_count": 3,
      "outputs": [
        {
          "output_type": "execute_result",
          "data": {
            "text/plain": [
              "(Word(L=200, V=1249),\n",
              " Word(L=8, V=1249),\n",
              " ['<PAD>', '<UNK>', '</S>', '<S>', '<|>', '', '0', '1', '10', '100'])"
            ]
          },
          "metadata": {
            "tags": []
          },
          "execution_count": 3
        }
      ]
    },
    {
      "cell_type": "code",
      "metadata": {
        "colab": {
          "base_uri": "https://localhost:8080/"
        },
        "id": "Q2jxVnVxayyt",
        "outputId": "6e070d24-6248-40de-b66d-2a6e0e02a678"
      },
      "source": [
        "r1 = env.step('go east')\n",
        "r1"
      ],
      "execution_count": 7,
      "outputs": [
        {
          "output_type": "execute_result",
          "data": {
            "text/plain": [
              "('You have to open the portal first.\\n\\n', 0, False, {})"
            ]
          },
          "metadata": {
            "tags": []
          },
          "execution_count": 7
        }
      ]
    },
    {
      "cell_type": "code",
      "metadata": {
        "colab": {
          "base_uri": "https://localhost:8080/"
        },
        "id": "OolFbdCta6JE",
        "outputId": "bae65844-520f-4b9d-a759-b7c64b14908a"
      },
      "source": [
        "print(r1[0])"
      ],
      "execution_count": 5,
      "outputs": [
        {
          "output_type": "stream",
          "text": [
            "\n",
            "-= Cubicle =-\n",
            "Well, here we are in the cubicle. You try to gain information on your surroundings by using a technique you call \"looking.\"\n",
            "\n",
            "You can see a desk. On the desk you see a folder.\n",
            "\n",
            "There is a closed portal leading east. There is an exit to the west. Don't worry, it is unblocked.\n",
            "\n",
            "\n",
            "\n"
          ],
          "name": "stdout"
        }
      ]
    },
    {
      "cell_type": "code",
      "metadata": {
        "colab": {
          "base_uri": "https://localhost:8080/",
          "height": 35
        },
        "id": "nPPknG5ObE93",
        "outputId": "accf1b7d-ad45-4fc9-e3f0-f2b3aba558e6"
      },
      "source": [
        "from textworld.envs.wrappers.filter import EnvInfos\n",
        "\n",
        "EXTRA_GAME_INFO = {\n",
        "    \"inventory\": True,\n",
        "    \"description\": True,\n",
        "    \"intermediate_reward\": True,\n",
        "    \"admissible_commands\": True,\n",
        "    \"policy_commands\": True,\n",
        "}\n",
        "\n",
        "env_id = tw_gym.register_game(gamename, max_episode_steps=10,\n",
        "                                  name=\"simple1\", request_infos=EnvInfos(**EXTRA_GAME_INFO))\n",
        "env_id"
      ],
      "execution_count": 8,
      "outputs": [
        {
          "output_type": "execute_result",
          "data": {
            "application/vnd.google.colaboratory.intrinsic+json": {
              "type": "string"
            },
            "text/plain": [
              "'tw-simple1-v1'"
            ]
          },
          "metadata": {
            "tags": []
          },
          "execution_count": 8
        }
      ]
    },
    {
      "cell_type": "code",
      "metadata": {
        "collapsed": true,
        "id": "dwnG3haCdJnK"
      },
      "source": [
        "env = gym.make(env_id)"
      ],
      "execution_count": 9,
      "outputs": []
    },
    {
      "cell_type": "code",
      "metadata": {
        "colab": {
          "base_uri": "https://localhost:8080/"
        },
        "id": "v2sIRq7WdNlL",
        "outputId": "e0b239bd-76a3-4b19-e4f3-ebaea2619c81"
      },
      "source": [
        "r = env.reset()\n",
        "r[1]"
      ],
      "execution_count": 10,
      "outputs": [
        {
          "output_type": "execute_result",
          "data": {
            "text/plain": [
              "{'admissible_commands': ['close formless chest',\n",
              "  'drop loaf of bread',\n",
              "  'eat loaf of bread',\n",
              "  'examine formless chest',\n",
              "  'examine formless key',\n",
              "  'examine loaf of bread',\n",
              "  'go east',\n",
              "  'insert loaf of bread into formless chest',\n",
              "  'inventory',\n",
              "  'look',\n",
              "  'take formless key'],\n",
              " 'description': \"-= Attic =-\\nYou've entered an attic.\\n\\nYou scan the room, seeing a formless chest. What a letdown! The formless chest is empty!\\n\\nYou need an unguarded exit? You should try going east.\\n\\nThere is a formless key on the floor.\\n\\n\",\n",
              " 'intermediate_reward': 0,\n",
              " 'inventory': 'You are carrying:\\n  a loaf of bread\\n\\n\\n',\n",
              " 'policy_commands': ['go east',\n",
              "  'open portal',\n",
              "  'go east',\n",
              "  'go south',\n",
              "  'take butterfly from shelf']}"
            ]
          },
          "metadata": {
            "tags": []
          },
          "execution_count": 10
        }
      ]
    },
    {
      "cell_type": "markdown",
      "metadata": {
        "id": "mydhPrcWhaDQ"
      },
      "source": [
        "# Rainforce learning: DQN agent\n",
        "\n",
        "First step will be the DQN which takes the state description and one of the commands from 'admissible commands' list and estimate Q-value using the Bellman equation.\n",
        "\n",
        "## Preprocessor pipeline\n",
        "\n",
        "Before we can start training the agent, we need to convert the data into NN-friendly form. DQN net accepts the fixed-sized vector which encodes state description and command we're going to execute.\n",
        "\n",
        "Preprocessing consists of several steps:\n",
        "* from raw strings given by environment to sequence of token ids -- indices in underlying vocabulary. This step is already implemented by TextWorld in `Word.tokenize()` method, but we need to implement its call in a convenient and flexible way.\n",
        "* every token in sequence should be encoded into dense vector using so called *Embeddings*, which is a standard NLP practice to get from individual sequence entries into NN representation. You can take pre-trained embeddings or train your own using word2vec or glove methods. In our demo we go with third way: train embeddings as part of our model.\n",
        "* Embeddings convert every token in sequence into dense vector of fixed size, but the sequence as a whole still has variable length. To deal with that variability we'll use RNNs, which, being applied to input sequence can encode it into fixed size vector, capturing the squence as a whole. This step is labelled as Encoders on the diagram above. We'll train invidiual encoder for every input sequence.\n",
        "* Every encoder outputs fixed-size vector capturing the specifics from the sequence, so we just concatenate them together to get single fixed-size input to DQN network.\n",
        "\n"
      ]
    },
    {
      "cell_type": "code",
      "metadata": {
        "collapsed": true,
        "id": "oOjCmk0lMZrL"
      },
      "source": [
        "import ptan\n",
        "import random\n",
        "import pathlib\n",
        "import logging\n",
        "import numpy as np\n",
        "from typing import Tuple, List, Iterable, Optional, Any\n",
        "from textworld.gym import spaces as tw_spaces\n",
        "from textworld.envs.wrappers.filter import EnvInfos"
      ],
      "execution_count": 11,
      "outputs": []
    },
    {
      "cell_type": "markdown",
      "metadata": {
        "id": "r_JZHhbL-3gL"
      },
      "source": [
        "## Env encoder wrapper\n",
        "\n",
        "To simplify further experiments, below is the wrapper around TextWorld environment which transforms the observations using `Word.tokenize()` method\n"
      ]
    },
    {
      "cell_type": "code",
      "metadata": {
        "collapsed": true,
        "id": "kcAZQQk8CYjd"
      },
      "source": [
        "STEPS_LIMIT = 50\n",
        "GAME_FILE = gamename\n",
        "\n",
        "EXTRA_GAME_INFO = {\n",
        "  \"inventory\": True,\n",
        "  \"description\": True,\n",
        "  \"intermediate_reward\": True,\n",
        "  \"admissible_commands\": True,\n",
        "}\n",
        "\n",
        "\n",
        "def make_env():\n",
        "  game_path = pathlib.Path(GAME_FILE)\n",
        "  env_id = tw_gym.register_game(\n",
        "      str(game_path), max_episode_steps=STEPS_LIMIT,\n",
        "      name=game_path.stem, request_infos=EnvInfos(**EXTRA_GAME_INFO))\n",
        "  env = gym.make(env_id)\n",
        "  return env"
      ],
      "execution_count": 12,
      "outputs": []
    },
    {
      "cell_type": "code",
      "metadata": {
        "colab": {
          "base_uri": "https://localhost:8080/"
        },
        "id": "BmoNnM_BBemy",
        "outputId": "571c82b8-3b62-4d07-9dbf-68819996cb54"
      },
      "source": [
        "env = make_env()\n",
        "env\n",
        "  "
      ],
      "execution_count": 13,
      "outputs": [
        {
          "output_type": "execute_result",
          "data": {
            "text/plain": [
              "<TimeLimit<TextworldGamesEnv<tw-o10r5q5game1-v0>>>"
            ]
          },
          "metadata": {
            "tags": []
          },
          "execution_count": 13
        }
      ]
    },
    {
      "cell_type": "code",
      "metadata": {
        "collapsed": true,
        "id": "dPe6Yp4__dBP"
      },
      "source": [
        "class TextWorldPreproc(gym.Wrapper):\n",
        "    \"\"\"\n",
        "    Simple wrapper to preprocess text_world game observation\n",
        "    \"\"\"\n",
        "    log = logging.getLogger(\"TextWorldPreproc\")\n",
        "    \n",
        "    def __init__(self, env: gym.Env, encode_raw_text: bool = False,\n",
        "                 encode_extra_fields: Iterable[str] = ('description', 'inventory'),\n",
        "                 use_admissible_commands: bool = True,\n",
        "                 use_intermediate_reward: bool = True,\n",
        "                 tokens_limit: Optional[int] = None):\n",
        "        \"\"\"\n",
        "        :param env: env to be wrapped. Has to provide Word observations\n",
        "        :param encode_raw_text: do we need to encode raw observation from environment, if true, adds an extra encoder\n",
        "        :param encode_extra_fields: tuple of field names to be encoded, expected to be string values\n",
        "        :param use_admissible_commands: if true, admissible commands used for action wrapping\n",
        "        :param use_intermediate_reward: take intermediate reward into account\n",
        "        :param tokens_limit: optional limit of tokens in the encoded fields\n",
        "        \"\"\"\n",
        "        super(TextWorldPreproc, self).__init__(env)\n",
        "        if not isinstance(env.observation_space, tw_spaces.Word):\n",
        "            raise ValueError(\"Env should expose text_world compatible observation space, \"\n",
        "                             \"this one gives %s\" % env.observation_space)\n",
        "        self._encode_raw_text = encode_raw_text\n",
        "        self._encode_extra_field = tuple(encode_extra_fields)\n",
        "        self._use_admissible_commands = use_admissible_commands\n",
        "        self._use_intermedate_reward = use_intermediate_reward\n",
        "        self._num_fields = len(self._encode_extra_field) + int(self._encode_raw_text)\n",
        "        self._last_admissible_commands = None\n",
        "        self._last_extra_info = None\n",
        "        self._tokens_limit = tokens_limit\n",
        "        self._cmd_hist = []\n",
        "\n",
        "    @property\n",
        "    def num_fields(self):\n",
        "        return self._num_fields\n",
        "\n",
        "    def _encode(self, obs: str, extra_info: dict) -> dict:\n",
        "        obs_result = []\n",
        "        if self._encode_raw_text:\n",
        "            tokens = self.env.observation_space.tokenize(obs)\n",
        "            if self._tokens_limit is not None:\n",
        "                tokens = tokens[:self._tokens_limit]\n",
        "            obs_result.append(tokens)\n",
        "        for field in self._encode_extra_field:\n",
        "            tokens = self.env.observation_space.tokenize(extra_info[field])\n",
        "            if self._tokens_limit is not None:\n",
        "                tokens = tokens[:self._tokens_limit]\n",
        "            obs_result.append(tokens)\n",
        "        result = {\"obs\": obs_result}\n",
        "        if self._use_admissible_commands:\n",
        "            adm_result = []\n",
        "            for cmd in extra_info['admissible_commands']:\n",
        "                adm_result.append(self.env.action_space.tokenize(cmd))\n",
        "            result['admissible_commands'] = adm_result\n",
        "            self._last_admissible_commands = extra_info['admissible_commands']\n",
        "        self._last_extra_info = extra_info\n",
        "        return result\n",
        "\n",
        "    # TextWorld environment has a workaround of gym drawback: \n",
        "    # reset returns tuple with raw observation and extra dict\n",
        "    def reset(self):\n",
        "        res = self.env.reset()\n",
        "        self._cmd_hist = []\n",
        "        return self._encode(res[0], res[1])\n",
        "\n",
        "    def step(self, action):\n",
        "        if self._use_admissible_commands:\n",
        "            action = self._last_admissible_commands[action]\n",
        "            self._cmd_hist.append(action)\n",
        "        obs, r, is_done, extra = self.env.step(action)\n",
        "        if self._use_intermedate_reward:\n",
        "            r += extra.get('intermediate_reward', 0)\n",
        "        new_extra = dict(extra)\n",
        "        for f in self._encode_extra_field + ('admissible_commands', 'intermediate_reward'):\n",
        "            if f in new_extra:\n",
        "                new_extra.pop(f)\n",
        "        # if is_done:\n",
        "        #     self.log.info(\"Commands: %s\", self._cmd_hist)\n",
        "        #     self.log.info(\"Reward: %s, extra: %s\", r, new_extra)\n",
        "        return self._encode(obs, extra), r, is_done, new_extra\n",
        "\n",
        "    @property\n",
        "    def last_admissible_commands(self):\n",
        "        return tuple(self._last_admissible_commands) if self._last_admissible_commands else None\n",
        "\n",
        "    @property\n",
        "    def last_extra_info(self):\n",
        "        return self._last_extra_info\n"
      ],
      "execution_count": 14,
      "outputs": []
    },
    {
      "cell_type": "code",
      "metadata": {
        "colab": {
          "base_uri": "https://localhost:8080/"
        },
        "id": "MXY1rvQDDqKx",
        "outputId": "746dd0c9-50de-41a6-8b41-6b6152c36fb0"
      },
      "source": [
        "e = TextWorldPreproc(env)\n",
        "e"
      ],
      "execution_count": 15,
      "outputs": [
        {
          "output_type": "execute_result",
          "data": {
            "text/plain": [
              "<TextWorldPreproc<TimeLimit<TextworldGamesEnv<tw-o10r5q5game1-v0>>>>"
            ]
          },
          "metadata": {
            "tags": []
          },
          "execution_count": 15
        }
      ]
    },
    {
      "cell_type": "markdown",
      "metadata": {
        "id": "cbaYMcpwI8JM"
      },
      "source": [
        "Preprocessor applies tokenisation to original environment observations and repacks it into dict with two fileds: `admissible_commands`, which is a list of commands to take and `obs` list, keeping tokenised sequences building up our observation. \n",
        "\n",
        "Let's check how it works"
      ]
    },
    {
      "cell_type": "code",
      "metadata": {
        "colab": {
          "base_uri": "https://localhost:8080/"
        },
        "id": "ZyRzLN3CDun-",
        "outputId": "0063547a-1d10-4962-9154-32b3f6979554"
      },
      "source": [
        "r = e.reset()\n",
        "r"
      ],
      "execution_count": 16,
      "outputs": [
        {
          "output_type": "execute_result",
          "data": {
            "text/plain": [
              "{'admissible_commands': [array([  3, 234, 431, 225,   2]),\n",
              "  array([  3, 341, 637, 746, 159,   2]),\n",
              "  array([  3, 353, 637, 746, 159,   2]),\n",
              "  array([  3, 382, 431, 225,   2]),\n",
              "  array([  3, 382, 431, 587,   2]),\n",
              "  array([  3, 382, 637, 746, 159,   2]),\n",
              "  array([  3, 465, 352,   2]),\n",
              "  array([  3, 564, 637, 746, 159, 572, 431, 225,   2]),\n",
              "  array([  3, 574,   2]),\n",
              "  array([  3, 647,   2]),\n",
              "  array([   3, 1052,  431,  587,    2])],\n",
              " 'obs': [array([   3,   92,    1,  370,   63,   92,    2,    3, 1239,  916, 1078,\n",
              "          893,  926,   35,  431,  225,    2,    3, 1196,   35,  622, 1078,\n",
              "          431,  225,  577,  366, 1239,  711,   63, 1136,  387, 1239,  945,\n",
              "         1123,  466,  352,    2,    3, 1081,  577,   35,  431,  587,  755,\n",
              "         1078,  419,    2,    3,    2]),\n",
              "  array([   3, 1239,   78,    1,   35,  637,  746,  159,    2])]}"
            ]
          },
          "metadata": {
            "tags": []
          },
          "execution_count": 16
        }
      ]
    },
    {
      "cell_type": "markdown",
      "metadata": {
        "id": "7PmXI6oeJXKv"
      },
      "source": [
        "Besides transformed observations, the wrapper keeps two fields: `last_extra_info` with raw untransformed state from TextWorld environment and `last_admissible_commands` with list of text commands available. They are useful for debugging"
      ]
    },
    {
      "cell_type": "code",
      "metadata": {
        "colab": {
          "base_uri": "https://localhost:8080/"
        },
        "id": "nXdKj8rbECJt",
        "outputId": "10c32ed8-3694-470d-9314-ffe6461549de"
      },
      "source": [
        "e.last_extra_info"
      ],
      "execution_count": 17,
      "outputs": [
        {
          "output_type": "execute_result",
          "data": {
            "text/plain": [
              "{'admissible_commands': ['close formless chest',\n",
              "  'drop loaf of bread',\n",
              "  'eat loaf of bread',\n",
              "  'examine formless chest',\n",
              "  'examine formless key',\n",
              "  'examine loaf of bread',\n",
              "  'go east',\n",
              "  'insert loaf of bread into formless chest',\n",
              "  'inventory',\n",
              "  'look',\n",
              "  'take formless key'],\n",
              " 'description': \"-= Attic =-\\nYou've entered an attic.\\n\\nYou scan the room, seeing a formless chest. What a letdown! The formless chest is empty!\\n\\nYou need an unguarded exit? You should try going east.\\n\\nThere is a formless key on the floor.\\n\\n\",\n",
              " 'intermediate_reward': 0,\n",
              " 'inventory': 'You are carrying:\\n  a loaf of bread\\n\\n\\n'}"
            ]
          },
          "metadata": {
            "tags": []
          },
          "execution_count": 17
        }
      ]
    },
    {
      "cell_type": "code",
      "metadata": {
        "colab": {
          "base_uri": "https://localhost:8080/"
        },
        "id": "5NjiXKxWIq_t",
        "outputId": "1d7ec3c4-ec26-4165-fb65-2a317d700aa8"
      },
      "source": [
        "e.last_extra_info"
      ],
      "execution_count": 18,
      "outputs": [
        {
          "output_type": "execute_result",
          "data": {
            "text/plain": [
              "{'admissible_commands': ['close formless chest',\n",
              "  'drop loaf of bread',\n",
              "  'eat loaf of bread',\n",
              "  'examine formless chest',\n",
              "  'examine formless key',\n",
              "  'examine loaf of bread',\n",
              "  'go east',\n",
              "  'insert loaf of bread into formless chest',\n",
              "  'inventory',\n",
              "  'look',\n",
              "  'take formless key'],\n",
              " 'description': \"-= Attic =-\\nYou've entered an attic.\\n\\nYou scan the room, seeing a formless chest. What a letdown! The formless chest is empty!\\n\\nYou need an unguarded exit? You should try going east.\\n\\nThere is a formless key on the floor.\\n\\n\",\n",
              " 'intermediate_reward': 0,\n",
              " 'inventory': 'You are carrying:\\n  a loaf of bread\\n\\n\\n'}"
            ]
          },
          "metadata": {
            "tags": []
          },
          "execution_count": 18
        }
      ]
    },
    {
      "cell_type": "code",
      "metadata": {
        "colab": {
          "base_uri": "https://localhost:8080/"
        },
        "id": "ygHkW18sIvML",
        "outputId": "f715c560-c935-487f-907c-ad1d8ad140bc"
      },
      "source": [
        "e.step(e.last_admissible_commands.index('go east'))"
      ],
      "execution_count": 20,
      "outputs": [
        {
          "output_type": "execute_result",
          "data": {
            "text/plain": [
              "({'admissible_commands': [array([  3, 341, 637, 746, 159,   2]),\n",
              "   array([  3, 353, 637, 746, 159,   2]),\n",
              "   array([  3, 382, 311,   2]),\n",
              "   array([  3, 382, 421,   2]),\n",
              "   array([  3, 382, 637, 746, 159,   2]),\n",
              "   array([  3, 382, 830,   2]),\n",
              "   array([   3,  465, 1195,    2]),\n",
              "   array([  3, 574,   2]),\n",
              "   array([  3, 647,   2]),\n",
              "   array([  3, 762, 830,   2]),\n",
              "   array([  3, 854, 637, 746, 159, 755, 311,   2]),\n",
              "   array([   3, 1052,  421,  441,  311,    2])],\n",
              "  'obs': [array([   3,  287, 1189,  523, 1184,   78,  558, 1078,  287,    2,    3,\n",
              "          1239, 1123, 1102,  447,  560,  755, 1244, 1043,  190, 1152,   35,\n",
              "          1063, 1239,  196,  648,    2,    3, 1239,  199,  925,   35,  311,\n",
              "             2,    3,  755, 1078,  311, 1239,  925,   35,  421,    2,    3,\n",
              "          1081,  577,   35,  235,  830,  613,  352,    2,    3, 1081,  577,\n",
              "            63,  387, 1102, 1078, 1195,    2,    3,    1, 1229,  579,  577,\n",
              "          1132,    2,    3,    2]),\n",
              "   array([   3, 1239,   78,    1,   35,  637,  746,  159,    2])]},\n",
              " 1,\n",
              " False,\n",
              " {})"
            ]
          },
          "metadata": {
            "tags": []
          },
          "execution_count": 20
        }
      ]
    },
    {
      "cell_type": "code",
      "metadata": {
        "colab": {
          "base_uri": "https://localhost:8080/"
        },
        "id": "Wbu2jyaYJCbj",
        "outputId": "7867c795-50f9-4063-eb0d-46646b1a29d1"
      },
      "source": [
        "e.last_extra_info"
      ],
      "execution_count": 21,
      "outputs": [
        {
          "output_type": "execute_result",
          "data": {
            "text/plain": [
              "{'admissible_commands': ['drop loaf of bread',\n",
              "  'eat loaf of bread',\n",
              "  'examine desk',\n",
              "  'examine folder',\n",
              "  'examine loaf of bread',\n",
              "  'examine portal',\n",
              "  'go west',\n",
              "  'inventory',\n",
              "  'look',\n",
              "  'open portal',\n",
              "  'put loaf of bread on desk',\n",
              "  'take folder from desk'],\n",
              " 'description': '-= Cubicle =-\\nWell, here we are in the cubicle. You try to gain information on your surroundings by using a technique you call \"looking.\"\\n\\nYou can see a desk. On the desk you see a folder.\\n\\nThere is a closed portal leading east. There is an exit to the west. Don\\'t worry, it is unblocked.\\n\\n\\n',\n",
              " 'intermediate_reward': 1,\n",
              " 'inventory': 'You are carrying:\\n  a loaf of bread\\n\\n\\n'}"
            ]
          },
          "metadata": {
            "tags": []
          },
          "execution_count": 21
        }
      ]
    },
    {
      "cell_type": "code",
      "metadata": {
        "colab": {
          "base_uri": "https://localhost:8080/"
        },
        "id": "8Dn1YIrgJPPV",
        "outputId": "a614feff-dacb-45d6-db05-71960a43d443"
      },
      "source": [
        "e.step(e.last_admissible_commands.index('look'))"
      ],
      "execution_count": 22,
      "outputs": [
        {
          "output_type": "execute_result",
          "data": {
            "text/plain": [
              "({'admissible_commands': [array([  3, 341, 637, 746, 159,   2]),\n",
              "   array([  3, 353, 637, 746, 159,   2]),\n",
              "   array([  3, 382, 311,   2]),\n",
              "   array([  3, 382, 421,   2]),\n",
              "   array([  3, 382, 637, 746, 159,   2]),\n",
              "   array([  3, 382, 830,   2]),\n",
              "   array([   3,  465, 1195,    2]),\n",
              "   array([  3, 574,   2]),\n",
              "   array([  3, 647,   2]),\n",
              "   array([  3, 762, 830,   2]),\n",
              "   array([  3, 854, 637, 746, 159, 755, 311,   2]),\n",
              "   array([   3, 1052,  421,  441,  311,    2])],\n",
              "  'obs': [array([   3,  287, 1189,  523, 1184,   78,  558, 1078,  287,    2,    3,\n",
              "          1239, 1123, 1102,  447,  560,  755, 1244, 1043,  190, 1152,   35,\n",
              "          1063, 1239,  196,  648,    2,    3, 1239,  199,  925,   35,  311,\n",
              "             2,    3,  755, 1078,  311, 1239,  925,   35,  421,    2,    3,\n",
              "          1081,  577,   35,  235,  830,  613,  352,    2,    3, 1081,  577,\n",
              "            63,  387, 1102, 1078, 1195,    2,    3,    1, 1229,  579,  577,\n",
              "          1132,    2,    3,    2]),\n",
              "   array([   3, 1239,   78,    1,   35,  637,  746,  159,    2])]},\n",
              " 0,\n",
              " False,\n",
              " {})"
            ]
          },
          "metadata": {
            "tags": []
          },
          "execution_count": 22
        }
      ]
    },
    {
      "cell_type": "markdown",
      "metadata": {
        "id": "hW_03R41bt_G"
      },
      "source": [
        "So, the observation from `TextWorldPreproc` is a dict with two keys: \n",
        "* `admissible_commands`: list of commands available in the current state. Index in this array is the action to be pased to `step()` function\n",
        "* `obs`: list of arrays with sequences, by default `description` and `inventory`"
      ]
    },
    {
      "cell_type": "markdown",
      "metadata": {
        "id": "eyqqc-mhkxuL"
      },
      "source": [
        "## Preprocessor"
      ]
    },
    {
      "cell_type": "code",
      "metadata": {
        "collapsed": true,
        "id": "39Mlt549T2-1"
      },
      "source": [
        "import logging\n",
        "import torch\n",
        "import torch.nn as nn\n",
        "import torch.nn.utils.rnn as rnn_utils\n",
        "import torch.nn.functional as F\n",
        "import numpy as np"
      ],
      "execution_count": 24,
      "outputs": []
    },
    {
      "cell_type": "code",
      "metadata": {
        "collapsed": true,
        "id": "bhtz36ShT2-4"
      },
      "source": [
        "class Encoder(nn.Module):\n",
        "    \"\"\"\n",
        "    Takes input sequences (after embeddings) and returns the hidden state from LSTM\n",
        "    \"\"\"\n",
        "    def __init__(self, emb_size: int, out_size: int):\n",
        "        super(Encoder, self).__init__()\n",
        "\n",
        "        self.net = nn.LSTM(input_size=emb_size, hidden_size=out_size, batch_first=True)\n",
        "\n",
        "    def forward(self, x):\n",
        "        self.net.flatten_parameters()\n",
        "        _, hid_cell = self.net(x)\n",
        "        # Warn: if bidir=True or several layers, sequeeze has to be changed!\n",
        "        return hid_cell[0].squeeze(0)"
      ],
      "execution_count": 25,
      "outputs": []
    },
    {
      "cell_type": "code",
      "metadata": {
        "collapsed": true,
        "id": "OYnQOJQTlGwk"
      },
      "source": [
        "class Preprocessor(nn.Module):\n",
        "    \"\"\"\n",
        "    Takes batch of several input sequences and outputs their summary from one or many encoders\n",
        "    \"\"\"\n",
        "    def __init__(self, dict_size: int, emb_size: int, num_sequences: int, enc_output_size: int):\n",
        "        \"\"\"\n",
        "        :param dict_size: amount of words is our vocabulary\n",
        "        :param emb_size: dimensionality of embeddings\n",
        "        :param num_sequences: count of sequences\n",
        "        :param enc_output_size: output from single encoder\n",
        "        \"\"\"\n",
        "        super(Preprocessor, self).__init__()\n",
        "\n",
        "        self.emb = nn.Embedding(num_embeddings=dict_size, embedding_dim=emb_size)\n",
        "        self.encoders = []\n",
        "        for idx in range(num_sequences):\n",
        "            enc = Encoder(emb_size, enc_output_size)\n",
        "            self.encoders.append(enc)\n",
        "            self.add_module(f\"enc_{idx}\", enc)\n",
        "        self.enc_commands = Encoder(emb_size, enc_output_size)\n",
        "\n",
        "    def encode_sequences(self, batches):\n",
        "        \"\"\"\n",
        "        Forward pass of Preprocessor\n",
        "        :param batches: list of tuples with variable-length sequences of word ids\n",
        "        :return: tensor with concatenated encoder outputs for every batch sample\n",
        "        \"\"\"\n",
        "        data = []\n",
        "        for enc, enc_batch in zip(self.encoders, zip(*batches)):\n",
        "            data.append(self._apply_encoder(enc_batch, enc))\n",
        "        res_t = torch.cat(data, dim=1)\n",
        "        return res_t\n",
        "\n",
        "    def _apply_encoder(self, batch, encoder):\n",
        "        ord_batch, inv_batch = order_batch(batch)\n",
        "        dev = self.emb.weight.device\n",
        "        ord_batch_t = [torch.tensor(sample).to(dev) for sample in ord_batch]\n",
        "        batch_seq = rnn_utils.pack_sequence(ord_batch_t)\n",
        "        emb_seq_t = rnn_utils.PackedSequence(data=self.emb(batch_seq.data), batch_sizes=batch_seq.batch_sizes)\n",
        "        res = encoder(emb_seq_t)\n",
        "        res = res[inv_batch]\n",
        "        return res\n",
        "\n",
        "    def encode_commands(self, batch):\n",
        "        \"\"\"\n",
        "        Apply encoder to list of commands sequence\n",
        "        :param batch: list of lists of idx\n",
        "        :return: tensor with encoded commands in original order\n",
        "        \"\"\"\n",
        "        return self._apply_encoder(batch, self.enc_commands)\n",
        "def order_batch(batch):\n",
        "    \"\"\"\n",
        "    Order batch of sequences by sequence len and keep inverse\n",
        "    :param batch: list of lists of items\n",
        "    :return: Tuple[sorted batch, numpy array to return the order]\n",
        "    \"\"\"\n",
        "    lens = list(map(len, batch))\n",
        "    ord_idx = np.flip(np.argsort(lens, kind='stable'))\n",
        "    ord_inv = np.argsort(ord_idx, kind='stable')\n",
        "    ord_batch = [batch[idx] for idx in ord_idx]\n",
        "    return ord_batch, ord_inv"
      ],
      "execution_count": 45,
      "outputs": []
    },
    {
      "cell_type": "markdown",
      "metadata": {
        "id": "qmqRvRvI58qB"
      },
      "source": [
        "## DQN model\n",
        "\n",
        "Final step in our diagram is DQN model, which takes the observation representation produced by encoders + encoded command to be executed and produces Q(s, a). \n",
        "\n",
        "The code is trivial and straghtforward, but of course, you can tweak the model if you want (layers, activations, etc).\n",
        "\n",
        "For convenience, in addition to `forward()` method, we implement `q_values()` which applies vector of observations and batch of commands to the model to obtain Q-values for all admissible commands we have in the particular state."
      ]
    },
    {
      "cell_type": "code",
      "metadata": {
        "collapsed": true,
        "id": "yFbryTit45f8"
      },
      "source": [
        "class DQNModel(nn.Module):\n",
        "    def __init__(self, obs_size: int, cmd_size: int, hid_size: int = 256):\n",
        "        super(DQNModel, self).__init__()\n",
        "\n",
        "        self.net = nn.Sequential(\n",
        "            nn.Linear(obs_size + cmd_size, hid_size),\n",
        "            nn.ReLU(),\n",
        "            nn.Linear(hid_size, 1)\n",
        "        )\n",
        "\n",
        "    def forward(self, obs, cmd):\n",
        "        x = torch.cat((obs, cmd), dim=1)\n",
        "        return self.net(x)\n",
        "\n",
        "    def q_values(self, obs_t, commands_t):\n",
        "        \"\"\"\n",
        "        Calculate q-values for observation and tensor of commands\n",
        "        :param obs_t: preprocessed observation, need to be of [1, obs_size] shape\n",
        "        :param commands_t: commands to be evaluated, shape is [N, cmd_size]\n",
        "        :return: list of q-values for commands\n",
        "        \"\"\"\n",
        "        result = []\n",
        "        for cmd_t in commands_t:\n",
        "            result.append(self(obs_t, cmd_t.unsqueeze(0))[0].cpu().item())\n",
        "        return result\n",
        "\n"
      ],
      "execution_count": 27,
      "outputs": []
    },
    {
      "cell_type": "markdown",
      "metadata": {
        "id": "zThuJ03sDIOE"
      },
      "source": [
        "## Ptan Agent"
      ]
    },
    {
      "cell_type": "code",
      "metadata": {
        "collapsed": true,
        "id": "ACM5Y1ajDM8m"
      },
      "source": [
        "class DQNAgent(ptan.agent.BaseAgent):\n",
        "    def __init__(self, net: DQNModel, preprocessor: Preprocessor, epsilon: float = 0.0, device=\"cpu\"):\n",
        "        self.net = net\n",
        "        self.preprocessor = preprocessor\n",
        "        self._epsilon = epsilon\n",
        "        self.device = device\n",
        "\n",
        "    @property\n",
        "    def epsilon(self):\n",
        "        return self._epsilon\n",
        "\n",
        "    @epsilon.setter\n",
        "    def epsilon(self, value: float):\n",
        "        if 0.0 <= value <= 1.0:\n",
        "            self._epsilon = value\n",
        "\n",
        "    @torch.no_grad()\n",
        "    def __call__(self, states, agent_states=None):\n",
        "        if agent_states is None:\n",
        "            agent_states = [None] * len(states)\n",
        "\n",
        "        # for every state in the batch, calculate\n",
        "        actions = []\n",
        "        for state in states:\n",
        "            commands = state['admissible_commands']\n",
        "            if random.random() <= self.epsilon:\n",
        "                actions.append(random.randrange(len(commands)))\n",
        "            else:\n",
        "                obs_t = self.preprocessor.encode_sequences([state['obs']]).to(self.device)\n",
        "                commands_t = self.preprocessor.encode_commands(commands).to(self.device)\n",
        "                q_vals = self.net.q_values(obs_t, commands_t)\n",
        "                actions.append(np.argmax(q_vals))\n",
        "        return actions, agent_states"
      ],
      "execution_count": 28,
      "outputs": []
    },
    {
      "cell_type": "markdown",
      "metadata": {
        "id": "XwNvArlkZoWY"
      },
      "source": [
        "## Loss calculation"
      ]
    },
    {
      "cell_type": "code",
      "metadata": {
        "collapsed": true,
        "id": "cQF5tBouZqH0"
      },
      "source": [
        "def calc_loss_dqn(batch, preprocessor, tgt_preprocessor, net, tgt_net, gamma, device=\"cpu\"):\n",
        "    observations, taken_commands, rewards, next_best_qs = unpack_batch(batch, tgt_preprocessor, tgt_net, device)\n",
        "\n",
        "    obs_t = preprocessor.encode_sequences(observations).to(device)\n",
        "    cmds_t = preprocessor.encode_commands(taken_commands).to(device)\n",
        "    q_values_t = net(obs_t, cmds_t)\n",
        "    q_values_t = q_values_t.type(torch.cuda.FloatTensor)\n",
        "\n",
        "    tgt_q_t = torch.tensor(rewards) + gamma * torch.tensor(next_best_qs)\n",
        "    tgt_q_t = tgt_q_t.to(device)\n",
        "    tgt_q_t = tgt_q_t.type(torch.cuda.FloatTensor)\n",
        "    # print(q_values_t.squeeze(-1),tgt_q_t)\n",
        "\n",
        "    return F.mse_loss(q_values_t.squeeze(-1), tgt_q_t)"
      ],
      "execution_count": 29,
      "outputs": []
    },
    {
      "cell_type": "markdown",
      "metadata": {
        "id": "o4MlZBeJZLWm"
      },
      "source": [
        "## Fast batch unpack"
      ]
    },
    {
      "cell_type": "code",
      "metadata": {
        "collapsed": true,
        "id": "YvDDvGxvZKfw"
      },
      "source": [
        "@torch.no_grad()\n",
        "def unpack_batch(batch: List[ptan.experience.Experience], preprocessor: Preprocessor,\n",
        "                      net: DQNModel, device=\"cpu\"):\n",
        "    \"\"\"\n",
        "    Convert batch to data needed for Bellman step\n",
        "    :param batch: list of ptan.Experience objects\n",
        "    :param preprocessor: emb.Preprocessor instance\n",
        "    :param net: network to be used for next state approximation\n",
        "    :param device: torch device\n",
        "    :return: tuple (list of observations, list of taken commands, list of rewards, list of best Qs for the next state)\n",
        "    \"\"\"\n",
        "    # calculate Qs for next states\n",
        "    observations, taken_commands, rewards, best_q = [], [], [], []\n",
        "    last_obs, last_commands, last_offsets = [], [], []\n",
        "    for exp in batch:\n",
        "        observations.append(exp.state['obs'])\n",
        "        taken_commands.append(exp.state['admissible_commands'][exp.action])\n",
        "        rewards.append(exp.reward)\n",
        "\n",
        "        # calculate best Q value for the next state\n",
        "        if exp.last_state is None:\n",
        "            # final state in the episode, Q=0\n",
        "            last_offsets.append(len(last_commands))\n",
        "        else:\n",
        "            last_obs.append(exp.last_state['obs'])\n",
        "            last_commands.extend(exp.last_state['admissible_commands'])\n",
        "            last_offsets.append(len(last_commands))\n",
        "\n",
        "    obs_t = preprocessor.encode_sequences(last_obs).to(device)\n",
        "    commands_t = preprocessor.encode_commands(last_commands).to(device)\n",
        "\n",
        "    prev_ofs = 0\n",
        "    obs_ofs = 0\n",
        "    for ofs in last_offsets:\n",
        "        if prev_ofs == ofs:\n",
        "            best_q.append(0.0)\n",
        "        else:\n",
        "            q_vals = net.q_values(obs_t[obs_ofs:obs_ofs+1], commands_t[prev_ofs:ofs])\n",
        "            best_q.append(max(q_vals))\n",
        "            obs_ofs += 1\n",
        "        prev_ofs = ofs\n",
        "    return observations, taken_commands, rewards, best_q\n"
      ],
      "execution_count": 39,
      "outputs": []
    },
    {
      "cell_type": "markdown",
      "metadata": {
        "id": "JUhqwAvwEX5j"
      },
      "source": [
        "## Training loop\n",
        "\n",
        "Ok, we're now fully prepared for training our agent, whee!"
      ]
    },
    {
      "cell_type": "code",
      "metadata": {
        "collapsed": true,
        "id": "bIFbvnn1TKK0"
      },
      "source": [
        "import time\n",
        "import datetime\n",
        "import itertools\n",
        "import torch.optim as optim\n",
        "import matplotlib.pylab as plt\n",
        "\n",
        "ENC_SIZE = 20\n",
        "EMB_SIZE = 20\n",
        "REPLAY_SIZE = 10000\n",
        "REPLAY_INITIAL = 100\n",
        "GAMMA = 0.9\n",
        "LEARNING_RATE = 5e-5\n",
        "SYNC_NETS = 100\n",
        "BATCH_SIZE = 64\n",
        "\n",
        "INITIAL_EPSILON = 1.0\n",
        "FINAL_EPSILON = 0.2\n",
        "STEPS_EPSILON = 1000\n"
      ],
      "execution_count": 40,
      "outputs": []
    },
    {
      "cell_type": "code",
      "metadata": {
        "collapsed": true,
        "id": "g9HVFupZA6QF"
      },
      "source": [
        "device = torch.device(\"cuda\")  # you should use GPU, CPU is way too slow\n",
        "env = make_env()\n",
        "env = TextWorldPreproc(env)\n",
        "\n",
        "prep = Preprocessor(dict_size=env.observation_space.vocab_size, emb_size=EMB_SIZE, \n",
        "                    num_sequences=env.num_fields, enc_output_size=ENC_SIZE)\n",
        "prep = prep.to(device)\n",
        "# we'll use target network to disentangle target predictions in Bellman\n",
        "tgt_prep = ptan.agent.TargetNet(prep)\n",
        "\n",
        "net = DQNModel(obs_size=env.num_fields*ENC_SIZE, cmd_size=ENC_SIZE)\n",
        "net = net.to(device)\n",
        "tgt_net = ptan.agent.TargetNet(net)\n",
        "\n",
        "agent = DQNAgent(net, prep, epsilon=INITIAL_EPSILON, device=device)\n",
        "exp_source = ptan.experience.ExperienceSourceFirstLast(env, agent, gamma=GAMMA, steps_count=1)\n",
        "buffer = ptan.experience.ExperienceReplayBuffer(exp_source, REPLAY_SIZE)\n",
        "\n",
        "optimizer = optim.RMSprop(itertools.chain(net.parameters(), prep.parameters()),\n",
        "                          lr=LEARNING_RATE, eps=1e-5)\n"
      ],
      "execution_count": 41,
      "outputs": []
    },
    {
      "cell_type": "code",
      "metadata": {
        "colab": {
          "base_uri": "https://localhost:8080/"
        },
        "id": "TNNv6a4yVSQq",
        "outputId": "f9264cfa-4b23-4195-840b-93c498c2dfe9"
      },
      "source": [
        "from google.colab import drive\n",
        "drive.mount('/content/drive')"
      ],
      "execution_count": 42,
      "outputs": [
        {
          "output_type": "stream",
          "text": [
            "Drive already mounted at /content/drive; to attempt to forcibly remount, call drive.mount(\"/content/drive\", force_remount=True).\n"
          ],
          "name": "stdout"
        }
      ]
    },
    {
      "cell_type": "code",
      "metadata": {
        "id": "QwK-r8nuVZF6"
      },
      "source": [
        "traininglog=\"\"\n",
        "file_traininglog = '/content/drive/My Drive/'+gamename+'.training.txt'\n",
        "f_t=open(file_traininglog, 'w')\n",
        "file_playlog = '/content/drive/My Drive/'+gamename+'.play.txt'\n",
        "f_p=open(file_playlog, 'w')\n"
      ],
      "execution_count": 46,
      "outputs": []
    },
    {
      "cell_type": "code",
      "metadata": {
        "colab": {
          "base_uri": "https://localhost:8080/"
        },
        "id": "mbmmqabCTV6s",
        "outputId": "ab029d4c-97b0-4c39-dce3-846e7ecfa588"
      },
      "source": [
        "steps_done = 0\n",
        "episodes_done = 0\n",
        "losses = []\n",
        "rewards = []\n",
        "prev_steps = 0\n",
        "start_ts = prev_ts = time.time()\n",
        "\n",
        "for _ in range(10000):\n",
        "    steps_done += 1\n",
        "    buffer.populate(1)\n",
        "    rewards_steps = exp_source.pop_rewards_steps()\n",
        "    if rewards_steps:\n",
        "        speed = (steps_done - prev_steps) / (time.time() - prev_ts)\n",
        "        prev_steps = steps_done\n",
        "        prev_ts = time.time()\n",
        "        for rw, steps in rewards_steps:\n",
        "            episodes_done += 1\n",
        "            print(\"%d: Done %d episodes: reward = %.2f, steps = %d, speed = %.2f steps/sec, epsilon = %.2f\" % (\n",
        "                steps_done, episodes_done, rw, steps, speed, agent.epsilon))\n",
        "            traininglog = traininglog +\"%d: Done %d episodes: reward = %.2f, steps = %d, speed = %.2f steps/sec, epsilon = %.2f \\n\" % (                steps_done, episodes_done, rw, steps, speed, agent.epsilon)\n",
        "            rewards.append(rw)\n",
        "        if rewards and np.mean(rewards[-10:]) == 6.0:\n",
        "            print(\"Environment has been solved in %s, congrats!\" % datetime.timedelta(seconds=time.time() - start_ts))\n",
        "            traininglog = traininglog +\"Environment has been solved in %s, congrats!\" % datetime.timedelta(seconds=time.time() - start_ts)\n",
        "            f_t.write(traininglog)\n",
        "            break\n",
        "    if len(buffer) < REPLAY_INITIAL:\n",
        "        continue\n",
        "        \n",
        "    batch = buffer.sample(BATCH_SIZE)\n",
        "    optimizer.zero_grad()\n",
        "    loss_t = calc_loss_dqn(batch, prep, tgt_prep.target_model,\n",
        "                           net, tgt_net.target_model, GAMMA, device=device)\n",
        "    loss_t.backward()\n",
        "    optimizer.step()\n",
        "    losses.append(loss_t.item())\n",
        "    \n",
        "    if steps_done % SYNC_NETS == 0:\n",
        "        tgt_prep.sync()\n",
        "        tgt_net.sync()\n",
        "        print(\"%d: sync nets\" % steps_done)\n",
        "        \n",
        "    agent.epsilon = max(FINAL_EPSILON, INITIAL_EPSILON - steps_done / STEPS_EPSILON)"
      ],
      "execution_count": 47,
      "outputs": [
        {
          "output_type": "stream",
          "text": [
            "28: Done 1 episodes: reward = 1.00, steps = 50, speed = 6.56 steps/sec, epsilon = 0.97\n",
            "57: Done 2 episodes: reward = -1.00, steps = 29, speed = 6.42 steps/sec, epsilon = 0.94\n",
            "58: Done 3 episodes: reward = -1.00, steps = 1, speed = 4.22 steps/sec, epsilon = 0.94\n",
            "100: sync nets\n",
            "108: Done 4 episodes: reward = 2.00, steps = 50, speed = 6.25 steps/sec, epsilon = 0.89\n",
            "156: Done 5 episodes: reward = 0.00, steps = 48, speed = 6.17 steps/sec, epsilon = 0.84\n",
            "200: sync nets\n",
            "206: Done 6 episodes: reward = 0.00, steps = 50, speed = 6.06 steps/sec, epsilon = 0.80\n",
            "256: Done 7 episodes: reward = 3.00, steps = 50, speed = 5.86 steps/sec, epsilon = 0.74\n",
            "285: Done 8 episodes: reward = 1.00, steps = 29, speed = 5.59 steps/sec, epsilon = 0.72\n",
            "300: sync nets\n",
            "335: Done 9 episodes: reward = 3.00, steps = 50, speed = 5.67 steps/sec, epsilon = 0.67\n",
            "358: Done 10 episodes: reward = 1.00, steps = 23, speed = 5.58 steps/sec, epsilon = 0.64\n",
            "368: Done 11 episodes: reward = -1.00, steps = 10, speed = 5.50 steps/sec, epsilon = 0.63\n",
            "397: Done 12 episodes: reward = 0.00, steps = 29, speed = 5.56 steps/sec, epsilon = 0.60\n",
            "399: Done 13 episodes: reward = -1.00, steps = 2, speed = 4.78 steps/sec, epsilon = 0.60\n",
            "400: sync nets\n",
            "402: Done 14 episodes: reward = -1.00, steps = 3, speed = 4.93 steps/sec, epsilon = 0.60\n",
            "441: Done 15 episodes: reward = 2.00, steps = 39, speed = 5.64 steps/sec, epsilon = 0.56\n",
            "464: Done 16 episodes: reward = 6.00, steps = 23, speed = 5.61 steps/sec, epsilon = 0.54\n",
            "467: Done 17 episodes: reward = 0.00, steps = 3, speed = 5.09 steps/sec, epsilon = 0.53\n",
            "480: Done 18 episodes: reward = 2.00, steps = 13, speed = 5.50 steps/sec, epsilon = 0.52\n",
            "482: Done 19 episodes: reward = 0.00, steps = 2, speed = 4.83 steps/sec, epsilon = 0.52\n",
            "500: sync nets\n",
            "520: Done 20 episodes: reward = 6.00, steps = 38, speed = 5.59 steps/sec, epsilon = 0.48\n",
            "523: Done 21 episodes: reward = -1.00, steps = 3, speed = 4.89 steps/sec, epsilon = 0.48\n",
            "573: Done 22 episodes: reward = 3.00, steps = 50, speed = 5.67 steps/sec, epsilon = 0.43\n",
            "600: sync nets\n",
            "623: Done 23 episodes: reward = 1.00, steps = 50, speed = 5.68 steps/sec, epsilon = 0.38\n",
            "626: Done 24 episodes: reward = 0.00, steps = 3, speed = 5.08 steps/sec, epsilon = 0.38\n",
            "637: Done 25 episodes: reward = 6.00, steps = 11, speed = 5.56 steps/sec, epsilon = 0.36\n",
            "687: Done 26 episodes: reward = 3.00, steps = 50, speed = 5.57 steps/sec, epsilon = 0.31\n",
            "700: sync nets\n",
            "736: Done 27 episodes: reward = 6.00, steps = 49, speed = 5.55 steps/sec, epsilon = 0.27\n",
            "743: Done 28 episodes: reward = 6.00, steps = 7, speed = 5.26 steps/sec, epsilon = 0.26\n",
            "751: Done 29 episodes: reward = 6.00, steps = 8, speed = 5.25 steps/sec, epsilon = 0.25\n",
            "760: Done 30 episodes: reward = 6.00, steps = 9, speed = 5.40 steps/sec, epsilon = 0.24\n",
            "770: Done 31 episodes: reward = 6.00, steps = 10, speed = 5.37 steps/sec, epsilon = 0.23\n",
            "777: Done 32 episodes: reward = 6.00, steps = 7, speed = 5.17 steps/sec, epsilon = 0.22\n",
            "784: Done 33 episodes: reward = 6.00, steps = 7, speed = 5.13 steps/sec, epsilon = 0.22\n",
            "791: Done 34 episodes: reward = 6.00, steps = 7, speed = 5.40 steps/sec, epsilon = 0.21\n",
            "800: sync nets\n",
            "818: Done 35 episodes: reward = 6.00, steps = 27, speed = 5.47 steps/sec, epsilon = 0.20\n",
            "824: Done 36 episodes: reward = 6.00, steps = 6, speed = 5.24 steps/sec, epsilon = 0.20\n",
            "Environment has been solved in 0:02:24.058075, congrats!\n"
          ],
          "name": "stdout"
        }
      ]
    },
    {
      "cell_type": "code",
      "metadata": {
        "colab": {
          "base_uri": "https://localhost:8080/",
          "height": 265
        },
        "id": "maL3A_VlUJgh",
        "outputId": "74aaf0ee-c501-4b19-902f-dc19fb510114"
      },
      "source": [
        "plt.plot(losses);"
      ],
      "execution_count": null,
      "outputs": [
        {
          "output_type": "display_data",
          "data": {
            "image/png": "[encoded data removed]",
            "text/plain": [
              "<Figure size 432x288 with 1 Axes>"
            ]
          },
          "metadata": {
            "tags": [],
            "needs_background": "light"
          }
        }
      ]
    },
    {
      "cell_type": "code",
      "metadata": {
        "colab": {
          "base_uri": "https://localhost:8080/",
          "height": 265
        },
        "id": "14pHKgfPXNga",
        "outputId": "ea793186-0165-4db7-d61e-dc3f24a92dc2"
      },
      "source": [
        "plt.plot(rewards);"
      ],
      "execution_count": null,
      "outputs": [
        {
          "output_type": "display_data",
          "data": {
            "image/png": "[encoded data removed]",
            "text/plain": [
              "<Figure size 432x288 with 1 Axes>"
            ]
          },
          "metadata": {
            "tags": [],
            "needs_background": "light"
          }
        }
      ]
    },
    {
      "cell_type": "markdown",
      "metadata": {
        "id": "g3_rGfRhcMFy"
      },
      "source": [
        "# Save the agent's action as a game log, which is Input for the Demo2 to get a story"
      ]
    },
    {
      "cell_type": "code",
      "metadata": {
        "collapsed": true,
        "id": "bVYJjt_yctdJ"
      },
      "source": [
        "test_env = make_env()\n",
        "test_env = TextWorldPreproc(test_env)\n",
        "test_agent = DQNAgent(net, prep, epsilon=0, device=device)\n",
        "total_reward = 0\n",
        "step_idx = 0\n",
        "s = test_env.reset()"
      ],
      "execution_count": 48,
      "outputs": []
    },
    {
      "cell_type": "code",
      "metadata": {
        "colab": {
          "base_uri": "https://localhost:8080/"
        },
        "id": "HTsk2hBFdzj5",
        "outputId": "2115e75b-59bf-450b-89c0-b068beb24d87"
      },
      "source": [
        "  \n",
        "while True:\n",
        "    step_idx += 1\n",
        "    actions, _ = test_agent([s])\n",
        "    action = actions[0]\n",
        "    action_text = test_env.last_admissible_commands[action]\n",
        "    s, r, is_done, _ = test_env.step(action)\n",
        "    print(test_env.last_extra_info)\n",
        "    f_p.write(str(test_env.last_extra_info))\n",
        "    total_reward += r\n",
        "    print(\"%d: %s -> reward=%s, total_reward=%s\" % (step_idx,  action_text, r, total_reward))\n",
        "    f_p.write(\"%d: %s -> reward=%s, total_reward=%s\" % (step_idx,  action_text, r, total_reward))\n",
        "    if is_done:\n",
        "        break"
      ],
      "execution_count": 49,
      "outputs": [
        {
          "output_type": "stream",
          "text": [
            "{'description': '-= Cubicle =-\\nWell, here we are in the cubicle. You try to gain information on your surroundings by using a technique you call \"looking.\"\\n\\nYou can see a desk. On the desk you see a folder.\\n\\nThere is a closed portal leading east. There is an exit to the west. Don\\'t worry, it is unblocked.\\n\\n\\n', 'inventory': 'You are carrying:\\n  a loaf of bread\\n\\n\\n', 'admissible_commands': ['drop loaf of bread', 'eat loaf of bread', 'examine desk', 'examine folder', 'examine loaf of bread', 'examine portal', 'go west', 'inventory', 'look', 'open portal', 'put loaf of bread on desk', 'take folder from desk'], 'intermediate_reward': 1}\n",
            "1: go east -> reward=1, total_reward=1\n",
            "{'description': '-= Cubicle =-\\nWell, here we are in the cubicle. You try to gain information on your surroundings by using a technique you call \"looking.\"\\n\\nYou can see a desk. On the desk you see a folder.\\n\\nThere is an open portal leading east. There is an exit to the west. Don\\'t worry, it is unblocked.\\n\\n\\n', 'inventory': 'You are carrying:\\n  a loaf of bread\\n\\n\\n', 'admissible_commands': ['close portal', 'drop loaf of bread', 'eat loaf of bread', 'examine desk', 'examine folder', 'examine loaf of bread', 'examine portal', 'go east', 'go west', 'inventory', 'look', 'put loaf of bread on desk', 'take folder from desk'], 'intermediate_reward': 1}\n",
            "2: open portal -> reward=1, total_reward=2\n",
            "{'description': \"-= Recreation Zone =-\\nYou've fallen into an ordinary room. Your mind races to think of what kind of room would be ordinary. And then it hits you. Of course. You're in the recreation zone.\\n\\nYou see a box. The box is empty, what a horrible day!\\n\\nThere is an open portal leading west. There is an open gate leading south.\\n\\nThere is a burger on the floor.\\n\\n\", 'inventory': 'You are carrying:\\n  a loaf of bread\\n\\n\\n', 'admissible_commands': ['close box', 'close gate', 'close portal', 'drop loaf of bread', 'eat loaf of bread', 'examine box', 'examine burger', 'examine gate', 'examine loaf of bread', 'examine portal', 'go south', 'go west', 'insert loaf of bread into box', 'inventory', 'look', 'take burger'], 'intermediate_reward': 1}\n",
            "3: go east -> reward=1, total_reward=3\n",
            "{'description': \"-= Garage =-\\nYou arrive in a garage. A standard one.\\n\\nWere you looking for a shelf? Because look over there, it's a shelf. You see a butterfly on the shelf.\\n\\nThere is an open gate leading north. You need an unblocked exit? You should try going west.\\n\\n\\n\", 'inventory': 'You are carrying:\\n  a loaf of bread\\n\\n\\n', 'admissible_commands': ['close gate', 'drop loaf of bread', 'eat loaf of bread', 'examine butterfly', 'examine gate', 'examine loaf of bread', 'examine shelf', 'go north', 'go west', 'inventory', 'look', 'put loaf of bread on shelf', 'take butterfly from shelf'], 'intermediate_reward': 1}\n",
            "4: go south -> reward=1, total_reward=4\n",
            "{'description': \"-= Garage =-\\nYou arrive in a garage. A standard one.\\n\\nWere you looking for a shelf? Because look over there, it's a shelf. But the thing hasn't got anything on it. Silly shelf, silly, empty, good for nothing shelf.\\n\\nThere is an open gate leading north. You need an unblocked exit? You should try going west.\\n\\n\\n\", 'inventory': 'You are carrying:\\n  a butterfly\\n  a loaf of bread\\n\\n\\n', 'admissible_commands': ['close gate', 'drop butterfly', 'drop loaf of bread', 'eat loaf of bread', 'examine butterfly', 'examine gate', 'examine loaf of bread', 'examine shelf', 'go north', 'go west', 'inventory', 'look', 'put butterfly on shelf', 'put loaf of bread on shelf'], 'intermediate_reward': 1}\n",
            "5: take butterfly from shelf -> reward=2, total_reward=6\n"
          ],
          "name": "stdout"
        }
      ]
    },
    {
      "cell_type": "code",
      "metadata": {
        "id": "NIARoG96WgY6"
      },
      "source": [
        "f_t.close()\n",
        "f_p.close()"
      ],
      "execution_count": 50,
      "outputs": []
    },
    {
      "cell_type": "code",
      "metadata": {
        "colab": {
          "base_uri": "https://localhost:8080/"
        },
        "id": "nhvcj7G7TBxK",
        "outputId": "05bf74aa-5b8e-41d2-d2b8-002653f66397"
      },
      "source": [
        "with open(file_traininglog,'r') as testwritefile:\n",
        "    print(testwritefile.read())"
      ],
      "execution_count": 51,
      "outputs": [
        {
          "output_type": "stream",
          "text": [
            "28: Done 1 episodes: reward = 1.00, steps = 50, speed = 6.56 steps/sec, epsilon = 0.97 \n",
            "57: Done 2 episodes: reward = -1.00, steps = 29, speed = 6.42 steps/sec, epsilon = 0.94 \n",
            "58: Done 3 episodes: reward = -1.00, steps = 1, speed = 4.22 steps/sec, epsilon = 0.94 \n",
            "108: Done 4 episodes: reward = 2.00, steps = 50, speed = 6.25 steps/sec, epsilon = 0.89 \n",
            "156: Done 5 episodes: reward = 0.00, steps = 48, speed = 6.17 steps/sec, epsilon = 0.84 \n",
            "206: Done 6 episodes: reward = 0.00, steps = 50, speed = 6.06 steps/sec, epsilon = 0.80 \n",
            "256: Done 7 episodes: reward = 3.00, steps = 50, speed = 5.86 steps/sec, epsilon = 0.74 \n",
            "285: Done 8 episodes: reward = 1.00, steps = 29, speed = 5.59 steps/sec, epsilon = 0.72 \n",
            "335: Done 9 episodes: reward = 3.00, steps = 50, speed = 5.67 steps/sec, epsilon = 0.67 \n",
            "358: Done 10 episodes: reward = 1.00, steps = 23, speed = 5.58 steps/sec, epsilon = 0.64 \n",
            "368: Done 11 episodes: reward = -1.00, steps = 10, speed = 5.50 steps/sec, epsilon = 0.63 \n",
            "397: Done 12 episodes: reward = 0.00, steps = 29, speed = 5.56 steps/sec, epsilon = 0.60 \n",
            "399: Done 13 episodes: reward = -1.00, steps = 2, speed = 4.78 steps/sec, epsilon = 0.60 \n",
            "402: Done 14 episodes: reward = -1.00, steps = 3, speed = 4.93 steps/sec, epsilon = 0.60 \n",
            "441: Done 15 episodes: reward = 2.00, steps = 39, speed = 5.64 steps/sec, epsilon = 0.56 \n",
            "464: Done 16 episodes: reward = 6.00, steps = 23, speed = 5.61 steps/sec, epsilon = 0.54 \n",
            "467: Done 17 episodes: reward = 0.00, steps = 3, speed = 5.09 steps/sec, epsilon = 0.53 \n",
            "480: Done 18 episodes: reward = 2.00, steps = 13, speed = 5.50 steps/sec, epsilon = 0.52 \n",
            "482: Done 19 episodes: reward = 0.00, steps = 2, speed = 4.83 steps/sec, epsilon = 0.52 \n",
            "520: Done 20 episodes: reward = 6.00, steps = 38, speed = 5.59 steps/sec, epsilon = 0.48 \n",
            "523: Done 21 episodes: reward = -1.00, steps = 3, speed = 4.89 steps/sec, epsilon = 0.48 \n",
            "573: Done 22 episodes: reward = 3.00, steps = 50, speed = 5.67 steps/sec, epsilon = 0.43 \n",
            "623: Done 23 episodes: reward = 1.00, steps = 50, speed = 5.68 steps/sec, epsilon = 0.38 \n",
            "626: Done 24 episodes: reward = 0.00, steps = 3, speed = 5.08 steps/sec, epsilon = 0.38 \n",
            "637: Done 25 episodes: reward = 6.00, steps = 11, speed = 5.56 steps/sec, epsilon = 0.36 \n",
            "687: Done 26 episodes: reward = 3.00, steps = 50, speed = 5.57 steps/sec, epsilon = 0.31 \n",
            "736: Done 27 episodes: reward = 6.00, steps = 49, speed = 5.55 steps/sec, epsilon = 0.27 \n",
            "743: Done 28 episodes: reward = 6.00, steps = 7, speed = 5.26 steps/sec, epsilon = 0.26 \n",
            "751: Done 29 episodes: reward = 6.00, steps = 8, speed = 5.25 steps/sec, epsilon = 0.25 \n",
            "760: Done 30 episodes: reward = 6.00, steps = 9, speed = 5.40 steps/sec, epsilon = 0.24 \n",
            "770: Done 31 episodes: reward = 6.00, steps = 10, speed = 5.37 steps/sec, epsilon = 0.23 \n",
            "777: Done 32 episodes: reward = 6.00, steps = 7, speed = 5.17 steps/sec, epsilon = 0.22 \n",
            "784: Done 33 episodes: reward = 6.00, steps = 7, speed = 5.13 steps/sec, epsilon = 0.22 \n",
            "791: Done 34 episodes: reward = 6.00, steps = 7, speed = 5.40 steps/sec, epsilon = 0.21 \n",
            "818: Done 35 episodes: reward = 6.00, steps = 27, speed = 5.47 steps/sec, epsilon = 0.20 \n",
            "824: Done 36 episodes: reward = 6.00, steps = 6, speed = 5.24 steps/sec, epsilon = 0.20 \n",
            "Environment has been solved in 0:02:24.058121, congrats!\n"
          ],
          "name": "stdout"
        }
      ]
    },
    {
      "cell_type": "code",
      "metadata": {
        "id": "RdDk6QmLWyq6"
      },
      "source": [
        ""
      ],
      "execution_count": null,
      "outputs": []
    }
  ]
}